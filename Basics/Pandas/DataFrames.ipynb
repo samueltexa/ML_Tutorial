{
 "cells": [
  {
   "cell_type": "markdown",
   "id": "97504508-4f23-43ba-b827-340ac16fe870",
   "metadata": {},
   "source": [
    "## A Pandas DataFrame is a two-dimensional, size-mutable, and potentially heterogeneous tabular data structure with labeled axes (rows and columns). "
   ]
  },
  {
   "cell_type": "markdown",
   "id": "e4a3b132-9a4e-450a-a18f-91aa0969193d",
   "metadata": {},
   "source": [
    "## A Pandas DataFrame can be created from various data sources, such as lists, dictionaries, NumPy arrays, or even by reading data from files."
   ]
  },
  {
   "cell_type": "code",
   "execution_count": 42,
   "id": "3633aead-e5be-4216-b1a9-a5101f4526b0",
   "metadata": {},
   "outputs": [],
   "source": [
    "import  pandas as pd"
   ]
  },
  {
   "cell_type": "markdown",
   "id": "07b843ea-5235-4406-ab72-669db406f4b9",
   "metadata": {},
   "source": [
    "## =====>>>>Creating dataframe from a dictionary of lists"
   ]
  },
  {
   "cell_type": "code",
   "execution_count": 43,
   "id": "d3cf05d6-a47d-4516-bdb6-da6023e8b8f0",
   "metadata": {},
   "outputs": [],
   "source": [
    "data = {'Name': ['Alice', 'Bob', 'Charlie', 'David'],\n",
    "        'Age': [25, 30, 35, 40],\n",
    "        'City': ['New York', 'Los Angeles', 'Chicago', 'Houston']}"
   ]
  },
  {
   "cell_type": "code",
   "execution_count": 44,
   "id": "ca44adc6-4f30-4675-981f-80033b55daf8",
   "metadata": {},
   "outputs": [],
   "source": [
    "df = pd.DataFrame(data)"
   ]
  },
  {
   "cell_type": "code",
   "execution_count": 45,
   "id": "74d1048b-331c-4a21-956c-dd986e401508",
   "metadata": {},
   "outputs": [
    {
     "name": "stdout",
     "output_type": "stream",
     "text": [
      "      Name  Age         City\n",
      "0    Alice   25     New York\n",
      "1      Bob   30  Los Angeles\n",
      "2  Charlie   35      Chicago\n",
      "3    David   40      Houston\n"
     ]
    }
   ],
   "source": [
    "print(df)"
   ]
  },
  {
   "cell_type": "markdown",
   "id": "56367522-cc13-493f-a720-55a47b8c54c9",
   "metadata": {},
   "source": [
    "## =====>>>>Creating dataframe from a list of dictionaries"
   ]
  },
  {
   "cell_type": "code",
   "execution_count": 46,
   "id": "cf30135f-6531-4d0a-8caa-749f49aeb6cd",
   "metadata": {},
   "outputs": [],
   "source": [
    "data_list = [{'Name': 'Alice', 'Age': 25, 'City': 'New York'},\n",
    "             {'Name': 'Bob', 'Age': 30, 'City': 'Los Angeles'},\n",
    "             {'Name': 'Charlie', 'Age': 35, 'City': 'Chicago'},\n",
    "             {'Name': 'David', 'Age': 40, 'City': 'Houston'}]"
   ]
  },
  {
   "cell_type": "code",
   "execution_count": 47,
   "id": "68fcc4aa-feb2-451a-9367-43d741f14c75",
   "metadata": {},
   "outputs": [],
   "source": [
    "df = pd.DataFrame(data_list)"
   ]
  },
  {
   "cell_type": "code",
   "execution_count": 48,
   "id": "9eb78615-91ee-4e01-9c47-e11521533c75",
   "metadata": {},
   "outputs": [
    {
     "name": "stdout",
     "output_type": "stream",
     "text": [
      "      Name  Age         City\n",
      "0    Alice   25     New York\n",
      "1      Bob   30  Los Angeles\n",
      "2  Charlie   35      Chicago\n",
      "3    David   40      Houston\n"
     ]
    }
   ],
   "source": [
    "print(df)"
   ]
  },
  {
   "cell_type": "markdown",
   "id": "1052e60c-5221-48c9-8bef-aa08efa63ce9",
   "metadata": {},
   "source": [
    "## Accessing Data in a DataFrame:"
   ]
  },
  {
   "cell_type": "code",
   "execution_count": 49,
   "id": "bc7ee373-9fba-40c8-a973-dbc05ded9ddb",
   "metadata": {},
   "outputs": [
    {
     "name": "stdout",
     "output_type": "stream",
     "text": [
      "0      Alice\n",
      "1        Bob\n",
      "2    Charlie\n",
      "3      David\n",
      "Name: Name, dtype: object\n"
     ]
    }
   ],
   "source": [
    "print(df['Name'])  # Accessing the 'Name' column."
   ]
  },
  {
   "cell_type": "code",
   "execution_count": 50,
   "id": "3132dd51-a0bb-4749-972d-e0d25d6c0038",
   "metadata": {},
   "outputs": [
    {
     "name": "stdout",
     "output_type": "stream",
     "text": [
      "0       New York\n",
      "1    Los Angeles\n",
      "2        Chicago\n",
      "3        Houston\n",
      "Name: City, dtype: object\n"
     ]
    }
   ],
   "source": [
    "print(df[\"City\"])  # Accessing the 'Name' column."
   ]
  },
  {
   "cell_type": "markdown",
   "id": "34210aae-ce99-4e59-8b41-1ebf2c9ce972",
   "metadata": {},
   "source": [
    "## ===>>>>>>Accessing Rows: using .loc[] or .iloc[] to access rows by their index labels or integer positions."
   ]
  },
  {
   "cell_type": "code",
   "execution_count": 51,
   "id": "77becc9c-a715-4ffa-b5e1-72936f126a8d",
   "metadata": {},
   "outputs": [
    {
     "name": "stdout",
     "output_type": "stream",
     "text": [
      "Name       Alice\n",
      "Age           25\n",
      "City    New York\n",
      "Name: 0, dtype: object\n"
     ]
    }
   ],
   "source": [
    "print(df.loc[0])    # Accessing the first row by index label."
   ]
  },
  {
   "cell_type": "code",
   "execution_count": 52,
   "id": "226c9927-0184-4ed4-b3d6-e193df531254",
   "metadata": {},
   "outputs": [
    {
     "name": "stdout",
     "output_type": "stream",
     "text": [
      "Name    Charlie\n",
      "Age          35\n",
      "City    Chicago\n",
      "Name: 2, dtype: object\n"
     ]
    }
   ],
   "source": [
    "print(df.loc[2])   # Accessing the third row by integer position."
   ]
  },
  {
   "cell_type": "code",
   "execution_count": 53,
   "id": "868d4b64-bd56-46f4-baff-5a27bb63dff8",
   "metadata": {},
   "outputs": [
    {
     "name": "stdout",
     "output_type": "stream",
     "text": [
      "Name       Alice\n",
      "Age           25\n",
      "City    New York\n",
      "Name: 0, dtype: object\n"
     ]
    }
   ],
   "source": [
    "print(df.iloc[0])   # Accessing the third row by integer position."
   ]
  },
  {
   "cell_type": "markdown",
   "id": "665d1126-f447-44fd-806b-226ca806fcde",
   "metadata": {},
   "source": [
    "# Slicing DataFrames"
   ]
  },
  {
   "cell_type": "code",
   "execution_count": 54,
   "id": "4d392038-398e-4d8b-9dd7-b1752a628e02",
   "metadata": {},
   "outputs": [
    {
     "name": "stdout",
     "output_type": "stream",
     "text": [
      "1    30\n",
      "2    35\n",
      "Name: Age, dtype: int64\n"
     ]
    }
   ],
   "source": [
    "print(df['Age'][1:3])  # Slicing the 'Age' column for rows 1 to 2."
   ]
  },
  {
   "cell_type": "markdown",
   "id": "be80e0e6-000d-4681-b49f-aa2eb1d4e062",
   "metadata": {},
   "source": [
    "# ===>>>DataFrame Attributes"
   ]
  },
  {
   "cell_type": "code",
   "execution_count": 55,
   "id": "530fbe1a-50bd-412c-9e47-7291497948ba",
   "metadata": {},
   "outputs": [
    {
     "name": "stdout",
     "output_type": "stream",
     "text": [
      "(4, 3)\n"
     ]
    }
   ],
   "source": [
    "print(df.shape) #Returns a tuple representing the dimensions (rows, columns) of the DataFrame."
   ]
  },
  {
   "cell_type": "code",
   "execution_count": 59,
   "id": "79a0efaf-b80a-49d7-b665-85470da9b3cd",
   "metadata": {},
   "outputs": [
    {
     "name": "stdout",
     "output_type": "stream",
     "text": [
      "Index(['Name', 'Age', 'City'], dtype='object')\n"
     ]
    }
   ],
   "source": [
    "print(df.columns)  #Returns the column labels as an Index object."
   ]
  },
  {
   "cell_type": "code",
   "execution_count": 60,
   "id": "f81256a2-5350-4556-bb01-2f2b47026b8d",
   "metadata": {},
   "outputs": [
    {
     "name": "stdout",
     "output_type": "stream",
     "text": [
      "RangeIndex(start=0, stop=4, step=1)\n"
     ]
    }
   ],
   "source": [
    "print(df.index) # Returns the row labels as an Index object."
   ]
  },
  {
   "cell_type": "code",
   "execution_count": 61,
   "id": "6b4c417f-6c3c-4d38-98c3-97d4e85a93f5",
   "metadata": {},
   "outputs": [
    {
     "name": "stdout",
     "output_type": "stream",
     "text": [
      "Name    object\n",
      "Age      int64\n",
      "City    object\n",
      "dtype: object\n"
     ]
    }
   ],
   "source": [
    "print(df.dtypes) #Returns the data types of each column."
   ]
  },
  {
   "cell_type": "markdown",
   "id": "6d24f931-c72b-4ea8-84ac-a646b88d042d",
   "metadata": {},
   "source": [
    "# ====>>> Named Indexes"
   ]
  },
  {
   "cell_type": "code",
   "execution_count": 62,
   "id": "3d6cf0ee-26c4-43e5-b761-571e9c735dfe",
   "metadata": {},
   "outputs": [],
   "source": [
    "mydata = {\"carolies\":[343,545,567],\"duration\":[30,47,33]}"
   ]
  },
  {
   "cell_type": "code",
   "execution_count": 63,
   "id": "65fabdc2-7440-44ed-a4a3-18636911d6ff",
   "metadata": {},
   "outputs": [],
   "source": [
    "df = pd.DataFrame(mydata, index = [\"day1\",\"day2\",\"day3\"])"
   ]
  },
  {
   "cell_type": "code",
   "execution_count": 64,
   "id": "79b0bdb7-e594-4201-b976-d5215e4e6122",
   "metadata": {},
   "outputs": [
    {
     "name": "stdout",
     "output_type": "stream",
     "text": [
      "      carolies  duration\n",
      "day1       343        30\n",
      "day2       545        47\n",
      "day3       567        33\n"
     ]
    }
   ],
   "source": [
    "print(df)"
   ]
  },
  {
   "cell_type": "code",
   "execution_count": 66,
   "id": "301591a2-3a1a-499b-8a95-5161a42a9cac",
   "metadata": {},
   "outputs": [
    {
     "name": "stdout",
     "output_type": "stream",
     "text": [
      "carolies    343\n",
      "duration     30\n",
      "Name: day1, dtype: int64\n"
     ]
    }
   ],
   "source": [
    "print(df.loc[\"day1\"])"
   ]
  },
  {
   "cell_type": "code",
   "execution_count": 67,
   "id": "d4d111c7-3ce4-48dc-bb2a-7cf713d24cf0",
   "metadata": {},
   "outputs": [
    {
     "name": "stdout",
     "output_type": "stream",
     "text": [
      "carolies    545\n",
      "duration     47\n",
      "Name: day2, dtype: int64\n"
     ]
    }
   ],
   "source": [
    "print(df.loc[\"day2\"])"
   ]
  },
  {
   "cell_type": "code",
   "execution_count": null,
   "id": "9eaaa18d-dfd7-47ed-865e-f3348b8c04df",
   "metadata": {},
   "outputs": [],
   "source": []
  }
 ],
 "metadata": {
  "kernelspec": {
   "display_name": "Python 3 (ipykernel)",
   "language": "python",
   "name": "python3"
  },
  "language_info": {
   "codemirror_mode": {
    "name": "ipython",
    "version": 3
   },
   "file_extension": ".py",
   "mimetype": "text/x-python",
   "name": "python",
   "nbconvert_exporter": "python",
   "pygments_lexer": "ipython3",
   "version": "3.11.5"
  }
 },
 "nbformat": 4,
 "nbformat_minor": 5
}
