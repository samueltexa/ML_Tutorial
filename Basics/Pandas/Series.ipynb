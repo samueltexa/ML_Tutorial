{
 "cells": [
  {
   "cell_type": "markdown",
   "id": "3661cb2b-5ecc-4118-8a74-01977a09c6b3",
   "metadata": {},
   "source": [
    "## Series() is a constructor method in the Pandas library for creating one-dimensional labeled arrays, known as Pandas Series."
   ]
  },
  {
   "cell_type": "markdown",
   "id": "812b075d-aa61-4c41-a102-4b1931693958",
   "metadata": {},
   "source": [
    "## A Pandas Series is a one-dimensional labeled array that can hold data of various types, such as lists, arrays, or dictionaries."
   ]
  },
  {
   "cell_type": "markdown",
   "id": "09400282-a34d-4fa8-934e-84e65211483e",
   "metadata": {},
   "source": [
    "## Importing pandas library"
   ]
  },
  {
   "cell_type": "code",
   "execution_count": 126,
   "id": "26542fa8-5c93-4cd8-8648-769417158fa0",
   "metadata": {},
   "outputs": [],
   "source": [
    "import pandas as pd"
   ]
  },
  {
   "cell_type": "markdown",
   "id": "13b06517-fe38-4faa-af05-cb5acfdf98f9",
   "metadata": {},
   "source": [
    "## Creating a dictionary======>>>>>From a dictionary"
   ]
  },
  {
   "cell_type": "code",
   "execution_count": 127,
   "id": "c3390399-c20f-4196-9409-d4e7e7ccae02",
   "metadata": {},
   "outputs": [],
   "source": [
    "mydic = {\"Cars\":[\"Benz\",\"Volvo\",\"BMW\",\"Corola\"],\"Model\":[2001,2003,3004,2004]}"
   ]
  },
  {
   "cell_type": "markdown",
   "id": "1bdab474-a2e0-475f-9524-a8b7938493b9",
   "metadata": {},
   "source": [
    "## Creating series called struct from mydic"
   ]
  },
  {
   "cell_type": "code",
   "execution_count": 128,
   "id": "c6fb83fa-f604-4ee8-a816-bdea378e9e5b",
   "metadata": {},
   "outputs": [],
   "source": [
    "struct = pd.Series(mydic)"
   ]
  },
  {
   "cell_type": "code",
   "execution_count": 129,
   "id": "581b1adb-62c9-49ae-b889-fc9af93eb325",
   "metadata": {},
   "outputs": [
    {
     "name": "stdout",
     "output_type": "stream",
     "text": [
      "Cars     [Benz, Volvo, BMW, Corola]\n",
      "Model      [2001, 2003, 3004, 2004]\n",
      "dtype: object\n"
     ]
    }
   ],
   "source": [
    "print(struct)"
   ]
  },
  {
   "cell_type": "markdown",
   "id": "7965837e-d158-4d8f-bd9a-f9cc72a5d797",
   "metadata": {},
   "source": [
    "## ====>>>>>>Another dictionary"
   ]
  },
  {
   "cell_type": "code",
   "execution_count": 130,
   "id": "24ff8fff-cc26-4cde-b54d-05505a1169d3",
   "metadata": {},
   "outputs": [],
   "source": [
    "calories = {\"day1\": 420, \"day2\": 380, \"day3\": 390}"
   ]
  },
  {
   "cell_type": "code",
   "execution_count": 131,
   "id": "5fac8b99-5eab-4e93-8e9c-0fd947093b4c",
   "metadata": {},
   "outputs": [
    {
     "name": "stdout",
     "output_type": "stream",
     "text": [
      "day1    420\n",
      "day2    380\n",
      "day3    390\n",
      "dtype: int64\n"
     ]
    }
   ],
   "source": [
    "print(pd.Series(calories))"
   ]
  },
  {
   "cell_type": "code",
   "execution_count": 132,
   "id": "e21004b7-9c8b-43b2-bd1a-497349ca063a",
   "metadata": {},
   "outputs": [
    {
     "name": "stdout",
     "output_type": "stream",
     "text": [
      "420\n"
     ]
    }
   ],
   "source": [
    "print(calories[\"day1\"])"
   ]
  },
  {
   "cell_type": "code",
   "execution_count": 133,
   "id": "e7dd9855-69ac-49a3-a880-054558303cd6",
   "metadata": {},
   "outputs": [
    {
     "name": "stdout",
     "output_type": "stream",
     "text": [
      "420\n"
     ]
    }
   ],
   "source": [
    "print(calories[\"day1\"])"
   ]
  },
  {
   "cell_type": "code",
   "execution_count": 134,
   "id": "2d7f6bee-2fd1-4304-9a2b-ecae1db7e66e",
   "metadata": {},
   "outputs": [
    {
     "name": "stdout",
     "output_type": "stream",
     "text": [
      "420\n"
     ]
    }
   ],
   "source": [
    "print(calories[\"day1\"])"
   ]
  },
  {
   "cell_type": "code",
   "execution_count": 135,
   "id": "45468f4b-8409-43c6-a61f-a82c440c5afa",
   "metadata": {},
   "outputs": [
    {
     "name": "stdout",
     "output_type": "stream",
     "text": [
      "380\n"
     ]
    }
   ],
   "source": [
    "day = calories[\"day2\"]\n",
    "print(day)"
   ]
  },
  {
   "cell_type": "code",
   "execution_count": 136,
   "id": "d9cc958a-1101-4067-84d8-a79551f9fa71",
   "metadata": {},
   "outputs": [
    {
     "name": "stdout",
     "output_type": "stream",
     "text": [
      "A    100\n",
      "B    200\n",
      "C    300\n",
      "dtype: int64\n"
     ]
    }
   ],
   "source": [
    "data_dict = {'A': 100, 'B': 200, 'C': 300}\n",
    "series_from_dict = pd.Series(data_dict)\n",
    "print(series_from_dict)"
   ]
  },
  {
   "cell_type": "markdown",
   "id": "dc6b6160-cdfa-4633-9f7b-a42ea95dcf63",
   "metadata": {},
   "source": [
    "## ==>>>>>Accessing elemetns"
   ]
  },
  {
   "cell_type": "code",
   "execution_count": 137,
   "id": "9092c199-6c47-4656-92f1-f904ee25dbaa",
   "metadata": {},
   "outputs": [
    {
     "name": "stdout",
     "output_type": "stream",
     "text": [
      "100\n",
      "200\n",
      "300\n",
      "200\n"
     ]
    }
   ],
   "source": [
    "print(series_from_dict[0])\n",
    "print(series_from_dict[1])\n",
    "print(series_from_dict[2])\n",
    "print(series_from_dict['B'])"
   ]
  },
  {
   "cell_type": "markdown",
   "id": "12b32ecf-9da8-4ae4-a528-aecd9cf48274",
   "metadata": {},
   "source": [
    "# Attributes of series"
   ]
  },
  {
   "cell_type": "code",
   "execution_count": 138,
   "id": "ab8ac61f-a071-4617-971f-fb104a352f4e",
   "metadata": {},
   "outputs": [
    {
     "name": "stdout",
     "output_type": "stream",
     "text": [
      "[100 200 300]\n",
      "Index(['A', 'B', 'C'], dtype='object')\n",
      "int64\n"
     ]
    }
   ],
   "source": [
    "print(series_from_dict.values) #Returns the data as a NumPy array.\n",
    "print(series_from_dict.index) #Returns the index as a separate object.\n",
    "print(series_from_dict.dtype) #Returns the data type of the elements in the Series."
   ]
  },
  {
   "cell_type": "markdown",
   "id": "c3f12072-4602-491b-8414-2b762ae45b6c",
   "metadata": {},
   "source": [
    "## ======>>>>>From a list"
   ]
  },
  {
   "cell_type": "code",
   "execution_count": 139,
   "id": "9be1bbd4-bcb0-4e48-8da7-4a62e8117e9a",
   "metadata": {},
   "outputs": [],
   "source": [
    "mylist = [1,2,3,4,5]"
   ]
  },
  {
   "cell_type": "code",
   "execution_count": 140,
   "id": "efcdc1d3-458c-4e6a-8e47-6efdb1dcc9a5",
   "metadata": {},
   "outputs": [],
   "source": [
    "list = pd.Series(mylist)"
   ]
  },
  {
   "cell_type": "code",
   "execution_count": 141,
   "id": "5d47575c-b81e-4700-af69-f179d1524445",
   "metadata": {},
   "outputs": [
    {
     "name": "stdout",
     "output_type": "stream",
     "text": [
      "0    1\n",
      "1    2\n",
      "2    3\n",
      "3    4\n",
      "4    5\n",
      "dtype: int64\n"
     ]
    }
   ],
   "source": [
    "print(list)"
   ]
  },
  {
   "cell_type": "code",
   "execution_count": 142,
   "id": "2de02585-0986-4ff1-9fe7-2b2a9632e31b",
   "metadata": {},
   "outputs": [
    {
     "name": "stdout",
     "output_type": "stream",
     "text": [
      "4\n"
     ]
    }
   ],
   "source": [
    "print(list[3])"
   ]
  },
  {
   "cell_type": "code",
   "execution_count": 143,
   "id": "d728fde4-3889-4fb4-ba30-62501457e940",
   "metadata": {},
   "outputs": [
    {
     "name": "stdout",
     "output_type": "stream",
     "text": [
      "0    1\n",
      "1    2\n",
      "dtype: int64\n"
     ]
    }
   ],
   "source": [
    "print(list[:2])"
   ]
  },
  {
   "cell_type": "code",
   "execution_count": 144,
   "id": "46624896-fc3b-47f5-bcc2-198d8c61fc27",
   "metadata": {},
   "outputs": [
    {
     "name": "stdout",
     "output_type": "stream",
     "text": [
      "2    3\n",
      "3    4\n",
      "4    5\n",
      "dtype: int64\n"
     ]
    }
   ],
   "source": [
    "print(list[2:])"
   ]
  },
  {
   "cell_type": "code",
   "execution_count": 145,
   "id": "76dedd8a-94c9-4888-a603-907b21c24598",
   "metadata": {},
   "outputs": [],
   "source": [
    "mylists = [1,2,3,4,5]"
   ]
  },
  {
   "cell_type": "code",
   "execution_count": 146,
   "id": "a7d8f3be-9602-4091-99bb-7da90a7f8978",
   "metadata": {},
   "outputs": [],
   "source": [
    "list1 = pd.Series(mylist, index =[\"V\",\"W\",\"X\",\"Y\",\"Z\"])"
   ]
  },
  {
   "cell_type": "code",
   "execution_count": 147,
   "id": "25845d93-352a-4dca-b3d4-1785c84a0f6c",
   "metadata": {},
   "outputs": [
    {
     "name": "stdout",
     "output_type": "stream",
     "text": [
      "V    1\n",
      "W    2\n",
      "X    3\n",
      "Y    4\n",
      "Z    5\n",
      "dtype: int64\n"
     ]
    }
   ],
   "source": [
    "print(list1)"
   ]
  },
  {
   "cell_type": "code",
   "execution_count": 148,
   "id": "d37786d4-d349-4852-86d3-86e2d3bf4c41",
   "metadata": {},
   "outputs": [
    {
     "name": "stdout",
     "output_type": "stream",
     "text": [
      "2\n"
     ]
    }
   ],
   "source": [
    "print(list1[\"W\"])"
   ]
  },
  {
   "cell_type": "code",
   "execution_count": 149,
   "id": "31231d2a-ee3b-4779-8664-3e5cef5fe011",
   "metadata": {},
   "outputs": [
    {
     "name": "stdout",
     "output_type": "stream",
     "text": [
      "W    2\n",
      "X    3\n",
      "Y    4\n",
      "Z    5\n",
      "dtype: int64\n"
     ]
    }
   ],
   "source": [
    "print(list1[\"W\":])"
   ]
  },
  {
   "cell_type": "code",
   "execution_count": 150,
   "id": "3e05d7ae-1401-48e1-b162-a671545d83bd",
   "metadata": {},
   "outputs": [
    {
     "name": "stdout",
     "output_type": "stream",
     "text": [
      "V    1\n",
      "W    2\n",
      "X    3\n",
      "dtype: int64\n"
     ]
    }
   ],
   "source": [
    "print(list1[:\"X\"])"
   ]
  },
  {
   "cell_type": "code",
   "execution_count": 151,
   "id": "98704cba-ac6d-4258-b9c6-b077871a7a93",
   "metadata": {},
   "outputs": [
    {
     "name": "stdout",
     "output_type": "stream",
     "text": [
      "0    10\n",
      "1    20\n",
      "2    30\n",
      "3    40\n",
      "4    50\n",
      "dtype: int64\n"
     ]
    }
   ],
   "source": [
    "data_list = [10, 20, 30, 40, 50]\n",
    "series_from_list = pd.Series(data_list)\n",
    "print(series_from_list)\n"
   ]
  },
  {
   "cell_type": "code",
   "execution_count": 152,
   "id": "c7918dc3-201c-4184-8063-cb4acb235fc8",
   "metadata": {},
   "outputs": [
    {
     "name": "stdout",
     "output_type": "stream",
     "text": [
      "[10 20 30 40 50]\n",
      "RangeIndex(start=0, stop=5, step=1)\n",
      "int64\n"
     ]
    }
   ],
   "source": [
    "print(series_from_list.values) #Returns the data as a NumPy array.\n",
    "print(series_from_list.index) #Returns the index as a separate object.\n",
    "print(series_from_list.dtype) #Returns the data type of the elements in the Series."
   ]
  },
  {
   "cell_type": "markdown",
   "id": "4dc04758-5c6a-4f49-b412-aa1413a418da",
   "metadata": {},
   "source": [
    "## Basic Operations on Series"
   ]
  },
  {
   "cell_type": "code",
   "execution_count": 153,
   "id": "9cc3c92d-27ac-4c4a-89ee-276a7ea9887a",
   "metadata": {},
   "outputs": [
    {
     "name": "stdout",
     "output_type": "stream",
     "text": [
      "0    15\n",
      "1    25\n",
      "2    35\n",
      "3    45\n",
      "4    55\n",
      "dtype: int64\n"
     ]
    }
   ],
   "source": [
    "# Arithmetic operations\n",
    "result = series_from_list + 5\n",
    "print(result)"
   ]
  },
  {
   "cell_type": "code",
   "execution_count": 154,
   "id": "802cb8e2-0f23-4396-9c06-3e77477be382",
   "metadata": {},
   "outputs": [
    {
     "name": "stdout",
     "output_type": "stream",
     "text": [
      "2    30\n",
      "3    40\n",
      "4    50\n",
      "dtype: int64\n"
     ]
    }
   ],
   "source": [
    "# Boolean indexing\n",
    "subset = series_from_list[series_from_list > 20]\n",
    "print(subset)"
   ]
  }
 ],
 "metadata": {
  "kernelspec": {
   "display_name": "Python 3 (ipykernel)",
   "language": "python",
   "name": "python3"
  },
  "language_info": {
   "codemirror_mode": {
    "name": "ipython",
    "version": 3
   },
   "file_extension": ".py",
   "mimetype": "text/x-python",
   "name": "python",
   "nbconvert_exporter": "python",
   "pygments_lexer": "ipython3",
   "version": "3.11.5"
  }
 },
 "nbformat": 4,
 "nbformat_minor": 5
}
